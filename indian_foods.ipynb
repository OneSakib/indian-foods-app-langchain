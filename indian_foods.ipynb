{
 "cells": [
  {
   "cell_type": "code",
   "execution_count": null,
   "id": "b411b6fd",
   "metadata": {},
   "outputs": [],
   "source": [
    "from langchain_openai import OpenAIEmbeddings,ChatOpenAI\n",
    "from langchain_chroma import Chroma\n",
    "from langchain.document_loaders import PyPDFLoader\n",
    "from langchain.text_splitter import RecursiveCharacterTextSplitter\n",
    "import os"
   ]
  },
  {
   "cell_type": "code",
   "execution_count": null,
   "id": "aba82896",
   "metadata": {},
   "outputs": [
    {
     "data": {
      "text/plain": [
       "[Document(metadata={'producer': 'Microsoft® Word 2013', 'creator': 'Microsoft® Word 2013', 'creationdate': '2025-07-26T17:42:03+05:30', 'author': 'Sakib Malik', 'moddate': '2025-07-26T17:42:03+05:30', 'source': '.\\\\indian_foods.pdf', 'total_pages': 2, 'page': 0, 'page_label': '1'}, page_content=\"Discover the Rich Flavors of India with \\nIndian Food App 🍛 \\nAt Indian Food App, we bring the authentic taste of India straight to your plate. Whether you're \\ncraving a comforting bowl of butter chicken, a spicy serving of biryani, or a wholesome \\nvegetarian thali, our menu is crafted to satisfy every food lover’s palate. \\n\\ud83e Why Choose Indian Food App? \\nIndia is known for its diverse and vibrant food culture, with each region offering its own unique \\ndishes and cooking styles. At Indian Food App, we celebrate this diversity by offering: \\n\\uf0b7 Authentic Indian Dishes – From North Indian classics like paneer tikka and dal \\nmakhani to South Indian favorites such as masala dosa and sambar idli, our chefs use \\ntraditional recipes and fresh ingredients to give you a true taste of India. \\n\\uf0b7 Fresh Ingredients, Made Daily – Quality is our priority. All our dishes are prepared \\ndaily using fresh vegetables, aromatic spices, and premium ingredients to ensure every \\nbite is flavorful and satisfying. \\n\\uf0b7 Vegetarian & Non-Vegetarian Options – Whether you're a vegetarian, a meat lover, or \\nsomewhere in between, we have something delicious for everyone. \\n\\uf0b7 Quick Delivery & Takeout – Order from the comfort of your home or grab a quick bite \\non the go. Our fast and reliable service ensures your food reaches you hot and fresh. \\n🌶\\ud83e Our Specialties \\n\\uf0b7 Chicken Biryani – Fragrant basmati rice cooked with succulent chicken and a blend of \\ntraditional spices. \\n\\uf0b7 Paneer Butter Masala – Soft paneer cubes in a rich, creamy tomato-based gravy. \\n\\uf0b7 Chole Bhature – A classic Punjabi dish featuring spicy chickpeas served with fluffy \\nfried bread. \\n\\uf0b7 Tandoori Delights – Marinated meats and veggies cooked in a traditional clay oven for \\nthat irresistible smoky flavor. \\n\\uf0b7 Indian Sweets – End your meal with gulab jamun, rasgulla, or kheer – the perfect \\nsweet touch. \\n🛒 Order Now and Experience India on Your Plate! \\nHungry yet? Browse our full menu on the Indian Food App and place your order today. Whether \\nyou're planning a family dinner, a party, or a simple lunch for one, we’ve got you covered. \\n \\nFollow Us for Foodie Updates!\"),\n",
       " Document(metadata={'producer': 'Microsoft® Word 2013', 'creator': 'Microsoft® Word 2013', 'creationdate': '2025-07-26T17:42:03+05:30', 'author': 'Sakib Malik', 'moddate': '2025-07-26T17:42:03+05:30', 'source': '.\\\\indian_foods.pdf', 'total_pages': 2, 'page': 1, 'page_label': '2'}, page_content=\"Stay connected with Indian Food App on social media for mouth-watering updates, exclusive \\noffers, and more: \\n📲 Instagram: @indianfoodapp \\n📲 Facebook: Indian Food App \\n🌐 Website: [YourWebsiteHere.com] \\n \\nIndian Food App – Bringing India's Taste to Your Table\")]"
      ]
     },
     "execution_count": 7,
     "metadata": {},
     "output_type": "execute_result"
    }
   ],
   "source": [
    "# load Document\n",
    "file_path=os.path.join(os.curdir,'indian_foods.pdf')\n",
    "loader=PyPDFLoader(file_path)\n",
    "documents=loader.load()\n",
    "documents"
   ]
  },
  {
   "cell_type": "code",
   "execution_count": 8,
   "id": "c9b09fdc",
   "metadata": {},
   "outputs": [
    {
     "data": {
      "text/plain": [
       "[Document(metadata={'producer': 'Microsoft® Word 2013', 'creator': 'Microsoft® Word 2013', 'creationdate': '2025-07-26T17:42:03+05:30', 'author': 'Sakib Malik', 'moddate': '2025-07-26T17:42:03+05:30', 'source': '.\\\\indian_foods.pdf', 'total_pages': 2, 'page': 0, 'page_label': '1'}, page_content=\"Discover the Rich Flavors of India with \\nIndian Food App 🍛 \\nAt Indian Food App, we bring the authentic taste of India straight to your plate. Whether you're\"),\n",
       " Document(metadata={'producer': 'Microsoft® Word 2013', 'creator': 'Microsoft® Word 2013', 'creationdate': '2025-07-26T17:42:03+05:30', 'author': 'Sakib Malik', 'moddate': '2025-07-26T17:42:03+05:30', 'source': '.\\\\indian_foods.pdf', 'total_pages': 2, 'page': 0, 'page_label': '1'}, page_content='craving a comforting bowl of butter chicken, a spicy serving of biryani, or a wholesome \\nvegetarian thali, our menu is crafted to satisfy every food lover’s palate. \\n\\ud83e Why Choose Indian Food App?'),\n",
       " Document(metadata={'producer': 'Microsoft® Word 2013', 'creator': 'Microsoft® Word 2013', 'creationdate': '2025-07-26T17:42:03+05:30', 'author': 'Sakib Malik', 'moddate': '2025-07-26T17:42:03+05:30', 'source': '.\\\\indian_foods.pdf', 'total_pages': 2, 'page': 0, 'page_label': '1'}, page_content='India is known for its diverse and vibrant food culture, with each region offering its own unique \\ndishes and cooking styles. At Indian Food App, we celebrate this diversity by offering:'),\n",
       " Document(metadata={'producer': 'Microsoft® Word 2013', 'creator': 'Microsoft® Word 2013', 'creationdate': '2025-07-26T17:42:03+05:30', 'author': 'Sakib Malik', 'moddate': '2025-07-26T17:42:03+05:30', 'source': '.\\\\indian_foods.pdf', 'total_pages': 2, 'page': 0, 'page_label': '1'}, page_content='\\uf0b7 Authentic Indian Dishes – From North Indian classics like paneer tikka and dal \\nmakhani to South Indian favorites such as masala dosa and sambar idli, our chefs use'),\n",
       " Document(metadata={'producer': 'Microsoft® Word 2013', 'creator': 'Microsoft® Word 2013', 'creationdate': '2025-07-26T17:42:03+05:30', 'author': 'Sakib Malik', 'moddate': '2025-07-26T17:42:03+05:30', 'source': '.\\\\indian_foods.pdf', 'total_pages': 2, 'page': 0, 'page_label': '1'}, page_content='traditional recipes and fresh ingredients to give you a true taste of India. \\n\\uf0b7 Fresh Ingredients, Made Daily – Quality is our priority. All our dishes are prepared'),\n",
       " Document(metadata={'producer': 'Microsoft® Word 2013', 'creator': 'Microsoft® Word 2013', 'creationdate': '2025-07-26T17:42:03+05:30', 'author': 'Sakib Malik', 'moddate': '2025-07-26T17:42:03+05:30', 'source': '.\\\\indian_foods.pdf', 'total_pages': 2, 'page': 0, 'page_label': '1'}, page_content='daily using fresh vegetables, aromatic spices, and premium ingredients to ensure every \\nbite is flavorful and satisfying.'),\n",
       " Document(metadata={'producer': 'Microsoft® Word 2013', 'creator': 'Microsoft® Word 2013', 'creationdate': '2025-07-26T17:42:03+05:30', 'author': 'Sakib Malik', 'moddate': '2025-07-26T17:42:03+05:30', 'source': '.\\\\indian_foods.pdf', 'total_pages': 2, 'page': 0, 'page_label': '1'}, page_content=\"\\uf0b7 Vegetarian & Non-Vegetarian Options – Whether you're a vegetarian, a meat lover, or \\nsomewhere in between, we have something delicious for everyone.\"),\n",
       " Document(metadata={'producer': 'Microsoft® Word 2013', 'creator': 'Microsoft® Word 2013', 'creationdate': '2025-07-26T17:42:03+05:30', 'author': 'Sakib Malik', 'moddate': '2025-07-26T17:42:03+05:30', 'source': '.\\\\indian_foods.pdf', 'total_pages': 2, 'page': 0, 'page_label': '1'}, page_content='\\uf0b7 Quick Delivery & Takeout – Order from the comfort of your home or grab a quick bite \\non the go. Our fast and reliable service ensures your food reaches you hot and fresh. \\n🌶\\ud83e Our Specialties'),\n",
       " Document(metadata={'producer': 'Microsoft® Word 2013', 'creator': 'Microsoft® Word 2013', 'creationdate': '2025-07-26T17:42:03+05:30', 'author': 'Sakib Malik', 'moddate': '2025-07-26T17:42:03+05:30', 'source': '.\\\\indian_foods.pdf', 'total_pages': 2, 'page': 0, 'page_label': '1'}, page_content='🌶\\ud83e Our Specialties \\n\\uf0b7 Chicken Biryani – Fragrant basmati rice cooked with succulent chicken and a blend of \\ntraditional spices.'),\n",
       " Document(metadata={'producer': 'Microsoft® Word 2013', 'creator': 'Microsoft® Word 2013', 'creationdate': '2025-07-26T17:42:03+05:30', 'author': 'Sakib Malik', 'moddate': '2025-07-26T17:42:03+05:30', 'source': '.\\\\indian_foods.pdf', 'total_pages': 2, 'page': 0, 'page_label': '1'}, page_content='\\uf0b7 Paneer Butter Masala – Soft paneer cubes in a rich, creamy tomato-based gravy. \\n\\uf0b7 Chole Bhature – A classic Punjabi dish featuring spicy chickpeas served with fluffy \\nfried bread.'),\n",
       " Document(metadata={'producer': 'Microsoft® Word 2013', 'creator': 'Microsoft® Word 2013', 'creationdate': '2025-07-26T17:42:03+05:30', 'author': 'Sakib Malik', 'moddate': '2025-07-26T17:42:03+05:30', 'source': '.\\\\indian_foods.pdf', 'total_pages': 2, 'page': 0, 'page_label': '1'}, page_content='fried bread. \\n\\uf0b7 Tandoori Delights – Marinated meats and veggies cooked in a traditional clay oven for \\nthat irresistible smoky flavor.'),\n",
       " Document(metadata={'producer': 'Microsoft® Word 2013', 'creator': 'Microsoft® Word 2013', 'creationdate': '2025-07-26T17:42:03+05:30', 'author': 'Sakib Malik', 'moddate': '2025-07-26T17:42:03+05:30', 'source': '.\\\\indian_foods.pdf', 'total_pages': 2, 'page': 0, 'page_label': '1'}, page_content='\\uf0b7 Indian Sweets – End your meal with gulab jamun, rasgulla, or kheer – the perfect \\nsweet touch. \\n🛒 Order Now and Experience India on Your Plate!'),\n",
       " Document(metadata={'producer': 'Microsoft® Word 2013', 'creator': 'Microsoft® Word 2013', 'creationdate': '2025-07-26T17:42:03+05:30', 'author': 'Sakib Malik', 'moddate': '2025-07-26T17:42:03+05:30', 'source': '.\\\\indian_foods.pdf', 'total_pages': 2, 'page': 0, 'page_label': '1'}, page_content=\"Hungry yet? Browse our full menu on the Indian Food App and place your order today. Whether \\nyou're planning a family dinner, a party, or a simple lunch for one, we’ve got you covered.\"),\n",
       " Document(metadata={'producer': 'Microsoft® Word 2013', 'creator': 'Microsoft® Word 2013', 'creationdate': '2025-07-26T17:42:03+05:30', 'author': 'Sakib Malik', 'moddate': '2025-07-26T17:42:03+05:30', 'source': '.\\\\indian_foods.pdf', 'total_pages': 2, 'page': 0, 'page_label': '1'}, page_content='Follow Us for Foodie Updates!'),\n",
       " Document(metadata={'producer': 'Microsoft® Word 2013', 'creator': 'Microsoft® Word 2013', 'creationdate': '2025-07-26T17:42:03+05:30', 'author': 'Sakib Malik', 'moddate': '2025-07-26T17:42:03+05:30', 'source': '.\\\\indian_foods.pdf', 'total_pages': 2, 'page': 1, 'page_label': '2'}, page_content='Stay connected with Indian Food App on social media for mouth-watering updates, exclusive \\noffers, and more: \\n📲 Instagram: @indianfoodapp \\n📲 Facebook: Indian Food App'),\n",
       " Document(metadata={'producer': 'Microsoft® Word 2013', 'creator': 'Microsoft® Word 2013', 'creationdate': '2025-07-26T17:42:03+05:30', 'author': 'Sakib Malik', 'moddate': '2025-07-26T17:42:03+05:30', 'source': '.\\\\indian_foods.pdf', 'total_pages': 2, 'page': 1, 'page_label': '2'}, page_content=\"🌐 Website: [YourWebsiteHere.com] \\n \\nIndian Food App – Bringing India's Taste to Your Table\")]"
      ]
     },
     "execution_count": 8,
     "metadata": {},
     "output_type": "execute_result"
    }
   ],
   "source": [
    "# Split text into 500 words\n",
    "splitter=RecursiveCharacterTextSplitter(chunk_size=200,chunk_overlap=20)\n",
    "docs=splitter.split_documents(documents)\n",
    "docs"
   ]
  },
  {
   "cell_type": "code",
   "execution_count": null,
   "id": "8faca302",
   "metadata": {},
   "outputs": [],
   "source": []
  }
 ],
 "metadata": {
  "kernelspec": {
   "display_name": "venv",
   "language": "python",
   "name": "python3"
  },
  "language_info": {
   "codemirror_mode": {
    "name": "ipython",
    "version": 3
   },
   "file_extension": ".py",
   "mimetype": "text/x-python",
   "name": "python",
   "nbconvert_exporter": "python",
   "pygments_lexer": "ipython3",
   "version": "3.11.0"
  }
 },
 "nbformat": 4,
 "nbformat_minor": 5
}
