{
 "cells": [
  {
   "cell_type": "code",
   "execution_count": 49,
   "id": "f50fd47e",
   "metadata": {},
   "outputs": [
    {
     "name": "stderr",
     "output_type": "stream",
     "text": [
      "ERROR: Could not find a version that satisfies the requirement langhchain (from versions: none)\n",
      "ERROR: No matching distribution found for langhchain\n",
      "\n",
      "[notice] A new release of pip available: 22.3 -> 25.1.1\n",
      "[notice] To update, run: python.exe -m pip install --upgrade pip\n"
     ]
    }
   ],
   "source": [
    "\n",
    "! pip install langhchain langchain-openai langchain-community langchain-core requests"
   ]
  },
  {
   "cell_type": "code",
   "execution_count": 50,
   "id": "0470582c",
   "metadata": {},
   "outputs": [],
   "source": [
    "from langchain_openai import ChatOpenAI\n",
    "from langchain_core.tools import tool\n",
    "from langchain_core.messages import HumanMessage\n",
    "import requests"
   ]
  },
  {
   "cell_type": "code",
   "execution_count": 51,
   "id": "6f943034",
   "metadata": {},
   "outputs": [],
   "source": [
    "@tool\n",
    "def multiply(a:int, b:int)-> int:\n",
    "    \"\"\"Given 2 number multiply function\"\"\"\n",
    "    return a*b\n"
   ]
  },
  {
   "cell_type": "code",
   "execution_count": 53,
   "id": "5971d296",
   "metadata": {},
   "outputs": [
    {
     "data": {
      "text/plain": [
       "200"
      ]
     },
     "execution_count": 53,
     "metadata": {},
     "output_type": "execute_result"
    }
   ],
   "source": [
    "result=multiply.invoke({\"a\":10,\"b\":20})\n",
    "result"
   ]
  },
  {
   "cell_type": "code",
   "execution_count": 54,
   "id": "c109a633",
   "metadata": {},
   "outputs": [],
   "source": [
    "llm=ChatOpenAI(model=\"gpt-4o\")\n",
    "llm_with_tool=llm.bind_tools([multiply])\n"
   ]
  },
  {
   "cell_type": "code",
   "execution_count": 55,
   "id": "9d88927b",
   "metadata": {},
   "outputs": [
    {
     "data": {
      "text/plain": [
       "AIMessage(content='Hello! How can I assist you today?', additional_kwargs={'refusal': None}, response_metadata={'token_usage': {'completion_tokens': 10, 'prompt_tokens': 49, 'total_tokens': 59, 'completion_tokens_details': {'accepted_prediction_tokens': 0, 'audio_tokens': 0, 'reasoning_tokens': 0, 'rejected_prediction_tokens': 0}, 'prompt_tokens_details': {'audio_tokens': 0, 'cached_tokens': 0}}, 'model_name': 'gpt-4o-2024-08-06', 'system_fingerprint': 'fp_07871e2ad8', 'id': 'chatcmpl-BxtNcvaoYQ3RY9ZC7Uh2vFLC0cr7y', 'service_tier': 'default', 'finish_reason': 'stop', 'logprobs': None}, id='run--9fddc8a9-657c-41e4-914d-ef0a65bdeed3-0', usage_metadata={'input_tokens': 49, 'output_tokens': 10, 'total_tokens': 59, 'input_token_details': {'audio': 0, 'cache_read': 0}, 'output_token_details': {'audio': 0, 'reasoning': 0}})"
      ]
     },
     "execution_count": 55,
     "metadata": {},
     "output_type": "execute_result"
    }
   ],
   "source": [
    "llm_with_tool.invoke(\"Hii\")"
   ]
  },
  {
   "cell_type": "code",
   "execution_count": 64,
   "id": "496b5530",
   "metadata": {},
   "outputs": [],
   "source": [
    "query=HumanMessage(content=\"can you multiplt 3 and 5\")\n",
    "messages=[query]\n",
    "result=llm_with_tool.invoke(messages)\n",
    "result\n",
    "messages.append(result)"
   ]
  },
  {
   "cell_type": "code",
   "execution_count": 65,
   "id": "5e3814f4",
   "metadata": {},
   "outputs": [
    {
     "data": {
      "text/plain": [
       "15"
      ]
     },
     "execution_count": 65,
     "metadata": {},
     "output_type": "execute_result"
    }
   ],
   "source": [
    "result.tool_calls[0]['args']\n",
    "tool_result=multiply.invoke(result.tool_calls[0]['args'])\n",
    "tool_result"
   ]
  },
  {
   "cell_type": "code",
   "execution_count": 72,
   "id": "b85087dd",
   "metadata": {},
   "outputs": [],
   "source": [
    "tool_id=result.tool_calls[0]['id']"
   ]
  },
  {
   "cell_type": "code",
   "execution_count": 73,
   "id": "4abfc112",
   "metadata": {},
   "outputs": [
    {
     "data": {
      "text/plain": [
       "[HumanMessage(content='can you multiplt 3 and 5', additional_kwargs={}, response_metadata={}),\n",
       " AIMessage(content='', additional_kwargs={'tool_calls': [{'id': 'call_3KuVac4P6ik0ytnzUpdwLSus', 'function': {'arguments': '{\"a\":3,\"b\":5}', 'name': 'multiply'}, 'type': 'function'}], 'refusal': None}, response_metadata={'token_usage': {'completion_tokens': 17, 'prompt_tokens': 56, 'total_tokens': 73, 'completion_tokens_details': {'accepted_prediction_tokens': 0, 'audio_tokens': 0, 'reasoning_tokens': 0, 'rejected_prediction_tokens': 0}, 'prompt_tokens_details': {'audio_tokens': 0, 'cached_tokens': 0}}, 'model_name': 'gpt-4o-2024-08-06', 'system_fingerprint': 'fp_07871e2ad8', 'id': 'chatcmpl-BxtSBJuZWPVfzWGwWfvdGjp35sSIM', 'service_tier': 'default', 'finish_reason': 'tool_calls', 'logprobs': None}, id='run--d37ef32d-e0ab-4416-95aa-e96fa85e13f4-0', tool_calls=[{'name': 'multiply', 'args': {'a': 3, 'b': 5}, 'id': 'call_3KuVac4P6ik0ytnzUpdwLSus', 'type': 'tool_call'}], usage_metadata={'input_tokens': 56, 'output_tokens': 17, 'total_tokens': 73, 'input_token_details': {'audio': 0, 'cache_read': 0}, 'output_token_details': {'audio': 0, 'reasoning': 0}}),\n",
       " ToolMessage(content='15', tool_call_id='call_3KuVac4P6ik0ytnzUpdwLSus')]"
      ]
     },
     "execution_count": 73,
     "metadata": {},
     "output_type": "execute_result"
    }
   ],
   "source": [
    "from langchain.schema.messages import ToolMessage\n",
    "messages.append(ToolMessage(content=tool_result,tool_call_id=tool_id))\n",
    "messages"
   ]
  },
  {
   "cell_type": "code",
   "execution_count": 75,
   "id": "16b942e5",
   "metadata": {},
   "outputs": [
    {
     "data": {
      "text/plain": [
       "'The result of multiplying 3 and 5 is 15.'"
      ]
     },
     "execution_count": 75,
     "metadata": {},
     "output_type": "execute_result"
    }
   ],
   "source": [
    "result=llm_with_tool.invoke(messages)\n",
    "result.content"
   ]
  },
  {
   "cell_type": "code",
   "execution_count": null,
   "id": "0c66fad5",
   "metadata": {},
   "outputs": [],
   "source": []
  }
 ],
 "metadata": {
  "kernelspec": {
   "display_name": "venv",
   "language": "python",
   "name": "python3"
  },
  "language_info": {
   "codemirror_mode": {
    "name": "ipython",
    "version": 3
   },
   "file_extension": ".py",
   "mimetype": "text/x-python",
   "name": "python",
   "nbconvert_exporter": "python",
   "pygments_lexer": "ipython3",
   "version": "3.11.0"
  }
 },
 "nbformat": 4,
 "nbformat_minor": 5
}
